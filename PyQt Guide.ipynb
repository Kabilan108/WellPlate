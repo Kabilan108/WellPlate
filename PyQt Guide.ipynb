{
    "cells": [
        {
            "cell_type": "markdown",
            "source": [
                "# **Learning the Basics of `PyQt5`**\n",
                "\n",
                "We'll need to master the basic concepts of PyQt logic in order to efficiently use the library to develop GUI applications. Some of these concepts include:\n",
                "\n",
                "- Widgets\n",
                "- Layout managers\n",
                "- Dialogs\n",
                "- Main windows\n",
                "- Applications\n",
                "- Event loops\n",
                "- Signals and slots\n",
                "\n",
                "These elements are the building blocks of PyQt GUI applications. Most of them are represented as Python classes. `PyQt5.QtWidgets` is the module that provides all these classes. THese elements are extremely important, so we'll cover them in the subsequent sections."
            ],
            "metadata": {}
        },
        {
            "cell_type": "markdown",
            "source": [
                "## **Widgets**\n",
                "\n",
                "`QWidget` is the base class for all user interface objects, or **widgets**. These are rectangular-shaped graphical components that you can place on your application's windows to build the GUI. Widgets contain a series of attributes and methods that allow you to model their appearance and behavior. They can also paint a representation of themselves on the screen.\n",
                "\n",
                "Widgets also receive mouse clicks, keypresses, and other events from the user, the window system, and other sources. Each time a widget casthes and event, it emits a signal to announce its state change. `PyQt5` has a rich and modern colection of widgets that serve several purposes. Some of the most useful widgets are:\n",
                "\n",
                "- Buttons\n",
                "- Labels\n",
                "- Line edits\n",
                "- Combo boxes\n",
                "- Radio buttons\n",
                "\n",
                "> ## Buttons\n",
                ">\n",
                "> Buttons can be created by instantiating `QPushButton`, a class that provides a classical command button.\n",
                "> ![Buttons](nb_imgs/buttons.webp)\n",
                "> BUttons like these are the most commonly used widgets in any GUI. When you click them, you can command the computer to perform actions. You can even perform actions in response to a user clicking a button.\n",
                "\n",
                "<div></div>\n",
                "\n",
                "> ## Labels\n",
                ">\n",
                "> These can be created with `QLabel`. Labels are a way to display useful information in the form of text or images.\n",
                "> We can use labels like these to better explain the purpose or usage of the GUI. Their appearance can be tweaked in several ways. They even accept HTML text. Labels can also be used to specify a focus mnemonic key for another widget.\n",
                ">\n",
                "> ![Labels](nb_imgs/labels.webp)\n",
                "\n",
                "<div></div>\n",
                "\n",
                "> ## Line Edits\n",
                ">\n",
                "> These are single-line text boxes created with `QLineEdit`. Line edits are useful when you need the user to enter or erdit data in plain text format.\n",
                "> Line edits like these provide basic editing operations like *copy*, *paste*, *undo*, *redo*, *drag*, *drop*, and so on. In the figure below, you can also see that the objects on the first row show placeholder text to inform the user what kind of input is required.\n",
                ">\n",
                "> ![line-edits](nb_imgs/line-edits.webp)\n",
                "\n",
                "<div></div>\n",
                "\n",
                "> ## Combo Boxes\n",
                ">\n",
                "> Combo boxes are another useful widget created with `QComboBox`. A combo box will present your user with a list of options in a way that takes up a minimal amount of screen space.\n",
                "> The combo box below is **read-only**, which means the user can select once of several options but can't add their own. Combo boxes can also be editable, allowing the user to add new new options. They can contain pixmaps, strings, or both.\n",
                ">\n",
                "> ![combo-box](nb_imgs/combo-box.gif)\n",
                "\n",
                "<div></div>\n",
                "\n",
                "> ## Radio Button\n",
                "> These are created with `QRadioButton`. A `QRadioButton` oject is an option button that can be switched on (checked) or off (unckecked). Radio buttons are useful when you need the user to select one of many options. In this case, all options are visible on the screen at the same time.\n",
                "> In this group of radio buttons, only one button can be checked at a given time. If the user selects another button, then the previously selected one is turned off.\n",
                ">\n",
                "> ![radios](nb_imgs/radio.gif)\n",
                "\n",
                "`PyQt5` has a large collection of widgets. As of now, there are over forty available for use in creating GUIs. Next, we'll cover how to lay out different widgets to create modern and functional GUIs for our applications."
            ],
            "metadata": {}
        },
        {
            "cell_type": "markdown",
            "source": [
                "## **Layout Managers**\n",
                "\n",
                "How can you arrange a set of widgets to create a GUI that is both coherent and functional? There are a variety of techniques that could be used to lay out the widgets on a form or window. For instance, you can use `.resize()` and `.move()` to give widgets absolute sizes and positions. However, this can have some drawbacks:\n",
                "\n",
                "- You'll have to do a lot of manual calculations to determine the correct size and position of every single widget in the forms.\n",
                "- You'l have to do some extra calculations to correctly respond to changes in form size (**resize event**).\n",
                "- You'll have to redo all the calculations whenever you change the layout of your forms or add or remove widgets.\n",
                "\n",
                "One alternatie is to use `.resizeEvent()` to calculate the widget size and position dynamically. However, the most effective alternative is using [Layout Managers](https://realpython.com/python-pyqt-layout/), which will both increase our productivity and improve code maintainability.\n",
                "\n",
                "**Layout managers** are classes that allow you to size and position your widgets at the places you want them to be on the application's form. Layout managers automatically adapt to resize events and content changes. THey also control the sizes of the widgets within them. Thus, the widgets ina layout are automatically resized whenever the form is resized.\n",
                "\n",
                "PyQt provides four basic layour manager classes:\n",
                "\n",
                "- [QHBoxLayout](https://www.riverbankcomputing.com/static/Docs/PyQt5/api/qtwidgets/qhboxlayout.html)\n",
                "- [QVBoxLayout](https://www.riverbankcomputing.com/static/Docs/PyQt5/api/qtwidgets/qvboxlayout.html)\n",
                "- [QGridLayout](https://www.riverbankcomputing.com/static/Docs/PyQt5/api/qtwidgets/qgridlayout.html)\n",
                "- [QFormLayout](https://www.riverbankcomputing.com/static/Docs/PyQt5/api/qtwidgets/qformlayout.html)"
            ],
            "metadata": {}
        },
        {
            "cell_type": "markdown",
            "source": [
                "### **`QHBoxLayout`**\n",
                "\n",
                "The first layout manager class is **`QHBoxLayout`**, which arragnges widgets horizontally fro left to right:\n",
                "![Horizontal-Layout](nb_imgs/horizontal-layout.png)\n",
                "\n",
                "The widgets will appear one next to the other, starting from the left.\n",
                "The snippet below shows how the `QHBoxLayout` can be used to arrange buttons horrizontally:"
            ],
            "metadata": {}
        },
        {
            "cell_type": "code",
            "execution_count": null,
            "source": [
                "\"\"\" Horizontal Layout Example \"\"\"\n",
                "import sys\n",
                "from PyQt5.QtWidgets import QApplication, QHBoxLayout, QPushButton, QWidget\n",
                "\n",
                "app = QApplication(sys.argv)\n",
                "window = QWidget()\n",
                "window.setWindowTitle('QHBoxLayout')\n",
                "\n",
                "#* Create `QHBoxLayout` object\n",
                "layout = QHBoxLayout() #!\n",
                "\n",
                "#* Add three buttons to `layout` with `.addWidget()`\n",
                "layout.addWidget(QPushButton('Left')) #!\n",
                "layout.addWidget(QPushButton('Center')) #!\n",
                "layout.addWidget(QPushButton('Right')) #!\n",
                "\n",
                "#* Set layout as window's layout\n",
                "window.setLayout(layout) #!\n",
                "window.show()\n",
                "app.exec_()"
            ],
            "outputs": [],
            "metadata": {}
        },
        {
            "cell_type": "markdown",
            "source": [
                "### **`QVBoxLayout`**\n",
                "\n",
                "The next layout manager calss is **`QVBoxLayout`**, which arranges widgets vertically from top to bottom.\n",
                "\n",
                "![Vertically-Layout](nb_imgs/vertical-layout.png)\n",
                "\n",
                "Each new widget will appear beneath the previous one. You can use this class to construct vertical box layout objects and organize your widget from top to bottom.\n",
                "\n",
                "Here's how you can create and use a `QVBoxLayout` object:"
            ],
            "metadata": {}
        },
        {
            "cell_type": "code",
            "execution_count": null,
            "source": [
                "\"\"\" Vertical Layout Example \"\"\"\n",
                "import sys\n",
                "from PyQt5.QtWidgets import QApplication, QVBoxLayout, QPushButton, QWidget\n",
                "\n",
                "app = QApplication(sys.argv)\n",
                "window = QWidget()\n",
                "window.setWindowTitle('QVBoxLayout')\n",
                "\n",
                "#* Create `QVBoxLayout` object\n",
                "layout = QVBoxLayout() #!\n",
                "\n",
                "#* Add three buttons to `layout` with `.addWidget()`\n",
                "layout.addWidget(QPushButton('Top')) #!\n",
                "layout.addWidget(QPushButton('Center')) #!\n",
                "layout.addWidget(QPushButton('Bottom')) #!\n",
                "\n",
                "#* Set layout as window's layout\n",
                "window.setLayout(layout) #!\n",
                "window.show()\n",
                "sys.exit(app.exec_())"
            ],
            "outputs": [],
            "metadata": {}
        },
        {
            "cell_type": "markdown",
            "source": [
                "### **`QGridLayout`**\n",
                "\n",
                "The third layout manager class is `QGridLayout`, which arranges widgets into a grid of rows and columns. Every widget will have a relative position on the grid. You can define a widget's position by passing it a pair of coordinates in the form of `(row, column)`. These coordinates should be valid `int` numbers. They define which cell of the grid you're going to place the widget on. The grid layout works as follows:\n",
                "\n",
                "![grid-layout](nb_imgs/grid-layout.png)\n",
                "\n",
                "`QGridLayout` takes the space made available by its `parent`, divides it up into rows and columns, and puts each widget into its own cell."
            ],
            "metadata": {}
        },
        {
            "cell_type": "code",
            "execution_count": null,
            "source": [
                "\"\"\" Grid Layout Example \"\"\"\n",
                "import sys\n",
                "from PyQt5.QtWidgets import QApplication, QGridLayout, QPushButton, QWidget\n",
                "\n",
                "app = QApplication(sys.argv)\n",
                "window = QWidget()\n",
                "window.setWindowTitle(\"QGridLayout\")\n",
                "layout = QGridLayout()\n",
                "\n",
                "# Add widgets to grid layout\n",
                "# In this case, the second and third arguments to `.addWidget()` are `int` arguments that define the\n",
                "# position of each widget.\n",
                "layout.addWidget(QPushButton(\"Button (0,0)\"), 0, 0)\n",
                "layout.addWidget(QPushButton(\"Button (0,1)\"), 0, 1)\n",
                "layout.addWidget(QPushButton(\"Button (0,2)\"), 0, 2)\n",
                "layout.addWidget(QPushButton(\"Button (1,0)\"), 1, 0)\n",
                "layout.addWidget(QPushButton(\"Button (1,1)\"), 1, 1)\n",
                "layout.addWidget(QPushButton(\"Button (1,2)\"), 1, 2)\n",
                "layout.addWidget(QPushButton(\"Button (2,0)\"), 2, 0)\n",
                "\n",
                "# Two more arguments can be added to `.addWidget()`. These are `rowSpan` and `columnSpan`.\n",
                "# They can be used to make a widget occupy more than one row or column.\n",
                "layout.addWidget(QPushButton(\"Button (2,1) + 2 Columns Span\"), 2, 1, 1, 2)\n",
                "\n",
                "# Set layoutt\n",
                "window.setLayout(layout)\n",
                "window.show()\n",
                "sys.exit(app.exec_())"
            ],
            "outputs": [],
            "metadata": {}
        },
        {
            "cell_type": "markdown",
            "source": [
                "### **`QFormLayout`**\n",
                "\n",
                "The last layout manager class is `QFormLayout`, which arranges widgets in a two-column layout. The first column usually displays messages in labels. THe second column generally contains widgets like `QLineEdit`, `QComboBox`, [`QSpinBox`](https://www.riverbankcomputing.com/static/Docs/PyQt5/api/qtwidgets/qspinbox.html), and so on. These allow the user to enter or edit data regarding the information in the first column. The following diagram shows how form layouts work in practice:\n",
                "\n",
                "![form-layout](nb_imgs/form-layout.png)\n",
                "\n",
                "The left column consits of labels, and the right column consists of field widgets. If you're dealing with a [database application](https://realpython.com/python-pyqt-database/), then this kind of layout can be an attractive option for increased productivity when you're creating forms.\n",
                "\n",
                "The following example shows you how to create an application that uses a `QFormLayout` object to arrange its widgets:\n"
            ],
            "metadata": {}
        },
        {
            "cell_type": "code",
            "execution_count": null,
            "source": [
                "\"\"\"Form layout example.\"\"\"\n",
                "\n",
                "import sys\n",
                "from PyQt5.QtWidgets import QApplication, QFormLayout, QLineEdit, QWidget\n",
                "\n",
                "app = QApplication(sys.argv)\n",
                "window = QWidget()\n",
                "window.setWindowTitle('QFormLayout')\n",
                "layout = QFormLayout()\n",
                "\n",
                "# `QFormLayout` has a convenient method called `.addRow()`\n",
                "# This can be used to add a two-widget row to the layout.\n",
                "# The first argument of `.addRow()` should be a label, and\n",
                "# the second argument should be any other widget that allows the user to enter or edit data.\n",
                "layout.addRow('Name:', QLineEdit())\n",
                "layout.addRow('Age:', QLineEdit())\n",
                "layout.addRow('Job:', QLineEdit())\n",
                "layout.addRow('Hobbies:', QLineEdit())\n",
                "window.setLayout(layout)\n",
                "window.show()\n",
                "sys.exit(app.exec_())"
            ],
            "outputs": [],
            "metadata": {}
        },
        {
            "cell_type": "markdown",
            "source": [
                "## Dialogs\n",
                "\n",
                "WIth PyQt, two types of GUI desktop applications can be developed. Depending on the class used to to create the main form or window, you'll have one of the following:\n",
                "\n",
                "1. ***A Main Window-Style Application:*** The application's main window inherits from `QMainWindow`.\n",
                "2. ***A Dialog-Style Application:*** The application's main window inherits from `QDialog`.\n",
                "\n",
                "We'll start with Dialog-Style applications, and in the next section, we'll cover Main Window-Style applications.\n",
                "\n",
                "To *develop a Dialog-Style application*, you need to  create a GUI class class that inherits from `QDialog`, which is the base class of all dialog windows. A **dialog window** is always a top-level window that you can use as the main window for your Dialog-Style application.\n",
                "\n",
                "> **Note:** Dialog windows are also commonly used in Main Window-Style aplications for brief communication and interaction with the user.\n",
                ">\n",
                "> When dialog windows are used to communicate with the user, they may be:\n",
                ">\n",
                "> - *Modal Dialogs:* block input to any other visible windows in the same application. You can display a modal dialog by calling `.exec_()`.\n",
                "> - *Modeless Dialogs:* operate independently of other windows in the same application. YOu can display a modeless dialog by using `.show()`.\n",
                ">\n",
                "> Dialog windows can also provide a return value and have default buttons (for example, `OK` and `Canclel`).\n",
                ">\n",
                "\n",
                "A dialog is *always* a top-level widget. If it has a `parent`, then its default location is centerd on top of the parent's top-level widget. THis kind of dialog will also share the parent's taskbar entry. If you don't set a `parent` for a given dialog, then the dialog will get its own entry in the system's taskbar.\n",
                "\n",
                "Here's an example of how you'd use `QDialog` to develop a Dialog-Style application: `Dialog.py`"
            ],
            "metadata": {}
        },
        {
            "cell_type": "markdown",
            "source": [
                "## Main Windows\n",
                "\n",
                "Most of the time, GUI applications ill be **Main Window-Style**. This means that they'll have a *menu bar*, some toolbars, a status bar, and a central widget that will be the GUI's main element. It's also common that your apps will have several dialog windows to accomplish secondary actions that depend on user input.\n",
                "\n",
                "You'l use the class `QMainWindow` to develop Main Window-Style applications. You need to injerit from `QMainWindow` to create the main GUI class. An instance of a class that derives from `QMainWindow` is considered to be a **main window**. `QMainWIndow` provides a framework for building the application's GUI. THe class has its own built-in layout which you can use to place the following:\n",
                "\n",
                "- **One Menu Bar** is at the top of the window. The menu bar (`QMenuBar`) holds the application's main menu.\n",
                "- **Several Toolbars** are on the sides of the window. Toolbars (`QToolBar`) are suitable for holding tool buttons (`QToolButon`) and other kinds of widgets such as `QComboBox`, `QSpinBox`, and more.\n",
                "- **Once Central Widget** is the center of the window. The central widget can be of any type, or it can be a composite widget.\n",
                "- **One Status Bar** is at the bottom of the window. The status bar shows information on the application's general status.\n",
                "\n",
                "You can't create a main window without first setting a central widget. You *must* have a central widget, even if it's just a placeholder. When this is the case, you can use a `QWidget` object as your central widget. You can set the main window's central widget with `.setCentralWidget()`. The main window's layout will allow you to have only one central widget, but it can be a single or a composite widget.\n",
                "\n",
                "The code in this file shows how to use `QMainWindow` to create a Main Window-Style application: `MainWindow.py`\n",
                "\n",
                "> **Note:** By implementing different GUI components in their own methods, you make your code more readable and more maintianable.\n",
                "\n",
                "So far, we've covered some of the more important graphical components of PyQt5's set of widgets. In the next two sections, we'll cover some other important concepts related to PyQt GUI applications."
            ],
            "metadata": {}
        },
        {
            "cell_type": "markdown",
            "source": [
                "## Applications\n",
                "\n",
                "The most basic class you'll use when developing PyQt applications is `QApplication`. This class is at the core of any PyQt application. It manages the application's control flow as well as its main settings. In PyQt, any instance of `QApplication` is considered to be an **application**. Every PyQt GUI appllication must have one `QApplication` object. Some of the application's responsibilities include:\n",
                "\n",
                "- Handling initialization and finalization\n",
                "- Providing the event loop and event handling\n",
                "- Handling most of the system-wide and application-wide settings\n",
                "- Providing access to global information, such as the application'd directory, screen size and so on\n",
                "- Parsing common command-line arguments\n",
                "- Defining the application's look and feel\n",
                "- Providing localization capabilities\n",
                "\n",
                "These are just a handful of the core responsibilities of `QApplication`. As you can see, this is a fundamental class when it comes to developing PyQ GUI applications!\n",
                "\n",
                "One of the most important responsibilities of `QApplication` is to provide the event loop and the entire event handling mechanism. Let's take a closer look at the event loop next."
            ],
            "metadata": {}
        },
        {
            "cell_type": "markdown",
            "source": [
                "## Event Loops\n",
                "\n",
                "GUI applications are **event-driven**. THis means that functions and methods are executed in response to user actions like clicking on buttons, selecting an item from a combo box, entering or updating the text in a text editor, pressing a key on the keyboard, and so on. The user actions are generally called **events**.\n",
                "\n",
                "Events are commonly handled by an **event loop** (also called the **main loop**). An event loop is an infinite loop in which all events from the user, the window system, and any other sources are processed and dispatched. The event loop waits for an event to occur then dispatches it to perform some task. THe event loop continues to work until the application is terminated.\n",
                "\n",
                "Event loops are used by all GUI applications. The event loop is essentially an infinite loop that awaits for the occurence of events. If an event happens, then the loop checks if the event is a `Terminate` event. In that case, the loop is terminated and the application exits. Otherwise, the event is sent to the application's event queue for further processing, and the loop starts again.\n",
                "\n",
                "In PyQt, you can run the application's event loop by calling `.exec_()` on the `QApplication` object.\n",
                "\n",
                "> **Note:** PyQt5 provides two methods that start the event loop:\n",
                "> - `.exec_()`\n",
                "> - `.exec()`\n",
                "> Thus, you can remove `.exec_()` from your code - as it was developed for Python 2 - and use `.exec()` instead - as it was developed for Python 3.\n",
                "\n",
                "For an event to trigger a response action, you need to connect the event with the action you want to be executed. In PyQt5, you can establish that connection by using the signals and slots mechanism. We'll cover this in the next section."
            ],
            "metadata": {}
        },
        {
            "cell_type": "markdown",
            "source": [
                "## Signals and Slots\n",
                "\n",
                "PyQt widgets act as **event-catchers**. This means that every widget can catch a specific number of events, like mouse clicks, keypresses, and so on. In response to these events, widgets always emit a **signal**, which is a kind of message that announces a change in its state.\n",
                "\n",
                "The signal on its own doesn't perform any action. If you want a signal to trigger an action, then you need to conneect it to a **slot**. This is the function or method that will perform an action whenever the connecting signal is emitted. You can use any Python callable (**callback**) as a slot.\n",
                "\n",
                "If a signal is connected to a slot, then the slot is called whenever the signal is emitted. If a signal isn't connected to any slot, then nothing happens and the signal is ignored. Here are some of the most useful features of this mechanism:\n",
                "\n",
                "- A signal can be connected to one or many slots.\n",
                "- A signal may also be connected to another signal.\n",
                "- A slot may be connected to one or many signals.\n",
                "\n",
                "You can use the following syntax to connect a signal to a slot:\n",
                "\n",
                "```python\n",
                "widget.signal.connect(slot_function)\n",
                "```\n",
                "\n",
                "This will connect `slot_function` to `widget.signal`. Whenever `signal` is emitted, `slot_function()` will be called.\n",
                "\n",
                "> **Note:** Every widget has its own set of predefined signals. You can check them out on the widget's documentation page.\n",
                "\n",
                "This codeshows how to use the signals and slots mechanism:"
            ],
            "metadata": {}
        },
        {
            "cell_type": "code",
            "execution_count": null,
            "source": [
                "\"\"\"Signals and slots example\"\"\"\n",
                "\n",
                "# Import libraries and modules\n",
                "import sys\n",
                "\n",
                "from PyQt5.QtWidgets import QApplication\n",
                "from PyQt5.QtWidgets import QLabel\n",
                "from PyQt5.QtWidgets import QPushButton\n",
                "from PyQt5.QtWidgets import QVBoxLayout\n",
                "from PyQt5.QtWidgets import QWidget\n",
                "\n",
                "# Create `greeting()` which we'll use as a slot\n",
                "def greeting():\n",
                "    \"\"\"Slot function\"\"\"\n",
                "    if msg.text(): # If msg is not empty\n",
                "        msg.setText(\"\")\n",
                "    else:\n",
                "        msg.setText(\"Hello World\")\n",
                "\n",
                "# Initialize application\n",
                "app = QApplication(sys.argv)\n",
                "window = QWidget()\n",
                "window.setWindowTitle(\"Signals and slots\")\n",
                "layout = QVBoxLayout()\n",
                "\n",
                "# Add button to layout\n",
                "btn = QPushButton(\"Greet\")\n",
                "btn.clicked.connect(greeting) # Connect clicked to greeting()\n",
                "\n",
                "# Add button & msg to layout and initialize main loop\n",
                "layout.addWidget(btn)\n",
                "msg = QLabel(\"\")\n",
                "layout.addWidget(msg)\n",
                "window.setLayout(layout)\n",
                "window.show()\n",
                "sys.exit(app.exec())"
            ],
            "outputs": [],
            "metadata": {}
        },
        {
            "cell_type": "markdown",
            "source": [
                "If your slot function needs to receive extra arguments, then you can pass them in by using `functools.partial`. For example, you can modify `greeting()` as follows:"
            ],
            "metadata": {}
        },
        {
            "cell_type": "code",
            "execution_count": 2,
            "source": [
                "def greeting(who):\n",
                "    \"\"\"Slot function\"\"\"\n",
                "    if msg.text():\n",
                "        msg.setText(\"\")\n",
                "    else:\n",
                "        msg.setText(f\"Hello {who}\")"
            ],
            "outputs": [],
            "metadata": {}
        },
        {
            "cell_type": "markdown",
            "source": [
                "Now, `greeting()` needs to receive and argument `who`. If you want to connect this new version of `greeting()` to the `btn.clicked` signal, then you can do something like this:"
            ],
            "metadata": {}
        },
        {
            "cell_type": "code",
            "execution_count": 4,
            "source": [
                "import functools\n",
                "btn.clicked.connect(functools.partial(greeting, \"World!\"))"
            ],
            "outputs": [
                {
                    "output_type": "execute_result",
                    "data": {
                        "text/plain": [
                            "<PyQt5.QtCore.QMetaObject.Connection at 0x7f86572c4120>"
                        ]
                    },
                    "metadata": {},
                    "execution_count": 4
                }
            ],
            "metadata": {}
        },
        {
            "cell_type": "markdown",
            "source": [
                "THe call to `functools.partial()` returns an object that behaves similarly to `greeting()` with `who='World!'`. Now, when the user clicks on the button, the message 'Hello World!' will be shown in the label.\n",
                "\n",
                "> **Note:** You can also use `lambda` to connect a signal to a slot that requires extra arguments.\n",
                "\n",
                "The signals and slots mechanism is what you'll use to give life to your PyQt5 GUI applications. This mechanism will allow you to turn user events into concrete actions. You can dive deeper into the signals and slots mechanism by taking alook at the [PyQt5 documentation](https://www.riverbankcomputing.com/static/Docs/PyQt5/signals_slots.html).\n",
                "\n",
                "Now, we've covered the most important concepts of PyQt. With this knowledge and the library's documentation at hand, we can start developing our own GUI applications. First off will be a calculator app located in `Calculator.py`."
            ],
            "metadata": {}
        },
        {
            "cell_type": "markdown",
            "source": [
                "# Creating a Calculator With Python and PyQt\n",
                "\n",
                "Next, we're going to develop a calculator using the [Model View Controller (MVC)](https://realpython.com/the-model-view-controller-mvc-paradigm-summarized-with-legos/) design pattern. This pattern has three layers of code, each with different roles:\n",
                "\n",
                "1. **The model** takes care of your app's business logic. It contains the core functionality and data. For your calculator, the model will handle the calculations.\n",
                "2. **The view** implements your app's GUI/ It hosts all the widgets the end-user would need to interact with the application. The viw also receives user actions and events. For your calculator, the view will be the window you'll see on your screen.\n",
                "3. **The controller** connects the model and the view to make the application work. User events (or requests) are sent to the controller, which puts the model to work. When the model delivers the requested result (or data) in the right format, the controller forwards it to the view. For your calculator, the controller will receive user events from the GUI, ask the model to perform calculations, and update the GUI with the result.\n",
                "\n",
                "Here's a step-by-step MVC pattern for a GUI desktop application:\n",
                "\n",
                "1. The user performs an action or request (event) on the view (GUI).\n",
                "2. The view notifies the controller about the user's action.\n",
                "3. The controller gets the user's request and queries the model for a response.\n",
                "4. The model process the controller query, performs the required operations, and returns an answer or result.\n",
                "5. The controller receives the model's answer and updates the view accordingly.\n",
                "6. THe user finally sees the requested result on the view.\n",
                "\n",
                "We'll use this MVC design pattern to build our calculator."
            ],
            "metadata": {}
        }
    ],
    "metadata": {
        "orig_nbformat": 4,
        "language_info": {
            "name": "python",
            "version": "3.9.5",
            "mimetype": "text/x-python",
            "codemirror_mode": {
                "name": "ipython",
                "version": 3
            },
            "pygments_lexer": "ipython3",
            "nbconvert_exporter": "python",
            "file_extension": ".py"
        },
        "kernelspec": {
            "name": "python3",
            "display_name": "Python 3.9.5 64-bit ('pyTutorials': conda)"
        },
        "interpreter": {
            "hash": "de278367f2b8d1696092f60f80a2d775a763379d5bbfa32f3bb5431d9a01f98a"
        }
    },
    "nbformat": 4,
    "nbformat_minor": 2
}