{
    "cells": [
        {
            "cell_type": "markdown",
            "source": [
                "# **Learning the Basics of `PyQt5`**\n",
                "\n",
                "We'll need to master the basic concepts of PyQt logic in order to efficiently use the library to develop GUI applications. Some of these concepts include:\n",
                "\n",
                "- Widgets\n",
                "- Layout managers\n",
                "- Dialogs\n",
                "- Main windows\n",
                "- Applications\n",
                "- Event loops\n",
                "- Signals and slots\n",
                "\n",
                "These elements are the building blocks of PyQt GUI applications. Most of them are represented as Python classes. `PyQt5.QtWidgets` is the module that provides all these classes. THese elements are extremely important, so we'll cover them in the subsequent sections."
            ],
            "metadata": {}
        },
        {
            "cell_type": "markdown",
            "source": [
                "## **Widgets**\n",
                "\n",
                "`QWidget` is the base class for all user interface objects, or **widgets**. These are rectangular-shaped graphical components that you can place on your application's windows to build the GUI. Widgets contain a series of attributes and methods that allow you to model their appearance and behavior. They can also paint a representation of themselves on the screen.\n",
                "\n",
                "Widgets also receive mouse clicks, keypresses, and other events from the user, the window system, and other sources. Each time a widget casthes and event, it emits a signal to announce its state change. `PyQt5` has a rich and modern colection of widgets that serve several purposes. Some of the most useful widgets are:\n",
                "\n",
                "- Buttons\n",
                "- Labels\n",
                "- Line edits\n",
                "- Combo boxes\n",
                "- Radio buttons\n",
                "\n",
                "> ## Buttons\n",
                ">\n",
                "> Buttons can be created by instantiating `QPushButton`, a class that provides a classical command button.\n",
                "> ![Buttons](nb_imgs/buttons.webp)\n",
                "> BUttons like these are the most commonly used widgets in any GUI. When you click them, you can command the computer to perform actions. You can even perform actions in response to a user clicking a button.\n",
                "\n",
                "<div></div>\n",
                "\n",
                "> ## Labels\n",
                ">\n",
                "> These can be created with `QLabel`. Labels are a way to display useful information in the form of text or images.\n",
                "> We can use labels like these to better explain the purpose or usage of the GUI. Their appearance can be tweaked in several ways. They even accept HTML text. Labels can also be used to specify a focus mnemonic key for another widget.\n",
                ">\n",
                "> ![Labels](nb_imgs/labels.webp)\n",
                "\n",
                "<div></div>\n",
                "\n",
                "> ## Line Edits\n",
                ">\n",
                "> These are single-line text boxes created with `QLineEdit`. Line edits are useful when you need the user to enter or erdit data in plain text format.\n",
                "> Line edits like these provide basic editing operations like *copy*, *paste*, *undo*, *redo*, *drag*, *drop*, and so on. In the figure below, you can also see that the objects on the first row show placeholder text to inform the user what kind of input is required.\n",
                ">\n",
                "> ![line-edits](nb_imgs/line-edits.webp)\n",
                "\n",
                "<div></div>\n",
                "\n",
                "> ## Combo Boxes\n",
                ">\n",
                "> Combo boxes are another useful widget created with `QComboBox`. A combo box will present your user with a list of options in a way that takes up a minimal amount of screen space.\n",
                "> The combo box below is **read-only**, which means the user can select once of several options but can't add their own. Combo boxes can also be editable, allowing the user to add new new options. They can contain pixmaps, strings, or both.\n",
                ">\n",
                "> ![combo-box](nb_imgs/combo-box.gif)\n",
                "\n",
                "<div></div>\n",
                "\n",
                "> ## Radio Button\n",
                "> These are created with `QRadioButton`. A `QRadioButton` oject is an option button that can be switched on (checked) or off (unckecked). Radio buttons are useful when you need the user to select one of many options. In this case, all options are visible on the screen at the same time.\n",
                "> In this group of radio buttons, only one button can be checked at a given time. If the user selects another button, then the previously selected one is turned off.\n",
                ">\n",
                "> ![radios](nb_imgs/radio.gif)\n",
                "\n",
                "`PyQt5` has a large collection of widgets. As of now, there are over forty available for use in creating GUIs. Next, we'll cover how to lay out different widgets to create modern and functional GUIs for our applications."
            ],
            "metadata": {}
        },
        {
            "cell_type": "markdown",
            "source": [
                "## **Layout Managers**\n",
                "\n",
                "How can you arrange a set of widgets to create a GUI that is both coherent and functional? There are a variety of techniques that could be used to lay out the widgets on a form or window. For instance, you can use `.resize()` and `.move()` to give widgets absolute sizes and positions. However, this can have some drawbacks:\n",
                "\n",
                "- You'll have to do a lot of manual calculations to determine the correct size and position of every single widget in the forms.\n",
                "- You'l have to do some extra calculations to correctly respond to changes in form size (**resize event**).\n",
                "- You'll have to redo all the calculations whenever you change the layout of your forms or add or remove widgets.\n",
                "\n",
                "One alternatie is to use `.resizeEvent()` to calculate the widget size and position dynamically. However, the most effective alternative is using [Layout Managers](https://realpython.com/python-pyqt-layout/), which will both increase our productivity and improve code maintainability.\n",
                "\n",
                "**Layout managers** are classes that allow you to size and position your widgets at the places you want them to be on the application's form. Layout managers automatically adapt to resize events and content changes. THey also control the sizes of the widgets within them. Thus, the widgets ina layout are automatically resized whenever the form is resized.\n",
                "\n",
                "PyQt provides four basic layour manager classes:\n",
                "\n",
                "- [QHBoxLayout](https://www.riverbankcomputing.com/static/Docs/PyQt5/api/qtwidgets/qhboxlayout.html)\n",
                "- [QVBoxLayout](https://www.riverbankcomputing.com/static/Docs/PyQt5/api/qtwidgets/qvboxlayout.html)\n",
                "- [QGridLayout](https://www.riverbankcomputing.com/static/Docs/PyQt5/api/qtwidgets/qgridlayout.html)\n",
                "- [QFormLayout](https://www.riverbankcomputing.com/static/Docs/PyQt5/api/qtwidgets/qformlayout.html)"
            ],
            "metadata": {}
        },
        {
            "cell_type": "markdown",
            "source": [
                "## `QHBoxLayout`\n",
                "\n",
                "The first layout manager class is **`QHBoxLayout`**, which arragnges widgets horizontally fro left to right:\n",
                "![Horizontal-Layout](nb_imgs/horizontal-layout.png)\n",
                "\n",
                "The widgets will appear one next to the other, starting from the left.\n",
                "The snippet below shows how the `QHBoxLayout` can be used to arrange buttons horrizontally:"
            ],
            "metadata": {}
        },
        {
            "cell_type": "code",
            "execution_count": null,
            "source": [
                "\"\"\" Horizontal Layout Example \"\"\"\n",
                "import sys\n",
                "from PyQt5.QtWidgets import QApplication, QHBoxLayout, QPushButton, QWidget\n",
                "\n",
                "app = QApplication(sys.argv)\n",
                "window = QWidget()\n",
                "window.setWindowTitle('QHBoxLayout')\n",
                "\n",
                "#* Create `QHBoxLayout` object\n",
                "layout = QHBoxLayout() #!\n",
                "\n",
                "#* Add three buttons to `layout` with `.addWidget()`\n",
                "layout.addWidget(QPushButton('Left')) #!\n",
                "layout.addWidget(QPushButton('Center')) #!\n",
                "layout.addWidget(QPushButton('Right')) #!\n",
                "\n",
                "#* Set layout as window's layout\n",
                "window.setLayout(layout) #!\n",
                "window.show()\n",
                "app.exec_()"
            ],
            "outputs": [],
            "metadata": {}
        },
        {
            "cell_type": "markdown",
            "source": [
                "## `QVBoxLayout`\n",
                "\n",
                "The next layout manager calss is **`QVBoxLayout`**, which arranges widgets vertically from top to bottom.\n",
                "\n",
                "![Vertically-Layout](nb_imgs/vertical-layout.png)\n",
                "\n",
                "Each new widget will appear beneath the previous one. You can use this class to construct vertical box layout objects and organize your widget from top to bottom.\n",
                "\n",
                "Here's how you can create and use a `QVBoxLayout` object:"
            ],
            "metadata": {}
        },
        {
            "cell_type": "code",
            "execution_count": null,
            "source": [
                "\"\"\" Vertical Layout Example \"\"\"\n",
                "import sys\n",
                "from PyQt5.QtWidgets import QApplication, QVBoxLayout, QPushButton, QWidget\n",
                "\n",
                "app = QApplication(sys.argv)\n",
                "window = QWidget()\n",
                "window.setWindowTitle('QVBoxLayout')\n",
                "\n",
                "#* Create `QVBoxLayout` object\n",
                "layout = QVBoxLayout() #!\n",
                "\n",
                "#* Add three buttons to `layout` with `.addWidget()`\n",
                "layout.addWidget(QPushButton('Top')) #!\n",
                "layout.addWidget(QPushButton('Center')) #!\n",
                "layout.addWidget(QPushButton('Bottom')) #!\n",
                "\n",
                "#* Set layout as window's layout\n",
                "window.setLayout(layout) #!\n",
                "window.show()\n",
                "sys.exit(app.exec_())"
            ],
            "outputs": [
                {
                    "output_type": "error",
                    "ename": "Error",
                    "evalue": "Session cannot generate requests",
                    "traceback": [
                        "Error: Session cannot generate requests",
                        "at w.executeCodeCell (/home/kabilan/.vscode-server-insiders/extensions/ms-toolsai.jupyter-2021.8.1033311975/out/client/extension.js:90:321500)",
                        "at w.execute (/home/kabilan/.vscode-server-insiders/extensions/ms-toolsai.jupyter-2021.8.1033311975/out/client/extension.js:90:320821)",
                        "at w.start (/home/kabilan/.vscode-server-insiders/extensions/ms-toolsai.jupyter-2021.8.1033311975/out/client/extension.js:90:316637)",
                        "at processTicksAndRejections (internal/process/task_queues.js:93:5)",
                        "at async t.CellExecutionQueue.executeQueuedCells (/home/kabilan/.vscode-server-insiders/extensions/ms-toolsai.jupyter-2021.8.1033311975/out/client/extension.js:90:331164)",
                        "at async t.CellExecutionQueue.start (/home/kabilan/.vscode-server-insiders/extensions/ms-toolsai.jupyter-2021.8.1033311975/out/client/extension.js:90:330704)"
                    ]
                }
            ],
            "metadata": {}
        }
    ],
    "metadata": {
        "orig_nbformat": 4,
        "language_info": {
            "name": "python",
            "version": "3.9.5",
            "mimetype": "text/x-python",
            "codemirror_mode": {
                "name": "ipython",
                "version": 3
            },
            "pygments_lexer": "ipython3",
            "nbconvert_exporter": "python",
            "file_extension": ".py"
        },
        "kernelspec": {
            "name": "python3",
            "display_name": "Python 3.9.5 64-bit ('base': conda)"
        },
        "interpreter": {
            "hash": "de278367f2b8d1696092f60f80a2d775a763379d5bbfa32f3bb5431d9a01f98a"
        }
    },
    "nbformat": 4,
    "nbformat_minor": 2
}